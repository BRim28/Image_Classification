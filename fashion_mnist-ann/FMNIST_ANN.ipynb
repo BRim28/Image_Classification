{
 "cells": [
  {
   "cell_type": "markdown",
   "metadata": {},
   "source": [
    "# <center>Fashion MNIST Classification</center>"
   ]
  },
  {
   "cell_type": "markdown",
   "metadata": {},
   "source": [
    "#### Import the required libraries"
   ]
  },
  {
   "cell_type": "code",
   "execution_count": 1,
   "metadata": {
    "execution": {
     "iopub.execute_input": "2023-12-07T03:05:51.768970Z",
     "iopub.status.busy": "2023-12-07T03:05:51.768381Z",
     "iopub.status.idle": "2023-12-07T03:05:54.387672Z",
     "shell.execute_reply": "2023-12-07T03:05:54.386884Z"
    },
    "id": "dzLKpmZICaWN"
   },
   "outputs": [
    {
     "name": "stderr",
     "output_type": "stream",
     "text": [
      "2024-02-29 14:15:39.904804: I tensorflow/stream_executor/platform/default/dso_loader.cc:49] Successfully opened dynamic library libcudart.so.10.1\n"
     ]
    }
   ],
   "source": [
    "import numpy as np\n",
    "import tensorflow as tf"
   ]
  },
  {
   "cell_type": "markdown",
   "metadata": {},
   "source": [
    "#### Defining the utility functions"
   ]
  },
  {
   "cell_type": "code",
   "execution_count": 2,
   "metadata": {},
   "outputs": [],
   "source": [
    "def load_data(preprocess=True):\n",
    "    \"\"\"\n",
    "    This function loads the fashion-mnist dataset and returns the train and test data\n",
    "\n",
    "    Args:\n",
    "        preprocess (boolean): Decides if basic pre-processing is to be done on the data. Default is True.\n",
    "\n",
    "    Returns:\n",
    "         train_X (numpy.ndarray): Array containing training images of shape (num_samples,img_height,img_width)\n",
    "         train_y (numpy.ndarray): Array containing one-hot encoded training labels of shape (num_samples,num_classes)\n",
    "         test_X (numpy.ndarray): Array containing testing images of shape (num_samples,img_height,img_width)\n",
    "         test_y (numpy.ndarray): Array containing one-hot encoded testing labels of shape (num_samples,num_classes)\n",
    "    \"\"\"\n",
    "\n",
    "    # download the data\n",
    "    dataset = tf.keras.datasets.fashion_mnist\n",
    "    (train_X, train_y), (test_X, test_y) = dataset.load_data()\n",
    "\n",
    "    # Perform preprocessing if preprocess=True\n",
    "    if preprocess:\n",
    "        # scale the pixel values in the range [0,1]\n",
    "        train_X = train_X / 255.0\n",
    "        test_X = test_X / 255.0\n",
    "        # convert labels to one-hot encoding\n",
    "        train_y = tf.keras.utils.to_categorical(train_y)\n",
    "        test_y = tf.keras.utils.to_categorical(test_y)\n",
    "        \n",
    "    return train_X, train_y, test_X, test_y\n",
    "\n"
   ]
  },
  {
   "cell_type": "markdown",
   "metadata": {
    "id": "yR0EdgrLCaWR"
   },
   "source": [
    "#### a) Download and read the Fashion MNIST dataset"
   ]
  },
  {
   "cell_type": "code",
   "execution_count": 3,
   "metadata": {
    "execution": {
     "iopub.execute_input": "2023-12-07T03:05:54.391706Z",
     "iopub.status.busy": "2023-12-07T03:05:54.391318Z",
     "iopub.status.idle": "2023-12-07T03:05:54.812666Z",
     "shell.execute_reply": "2023-12-07T03:05:54.811918Z"
    },
    "id": "7MqDQO0KCaWS"
   },
   "outputs": [
    {
     "name": "stdout",
     "output_type": "stream",
     "text": [
      "Number of traing samples: 60000\n",
      "Number of testing samples: 10000\n",
      "Shape of the training data: (60000, 28, 28)\n",
      "Shape of the testing data: (10000, 28, 28)\n"
     ]
    }
   ],
   "source": [
    "train_X, train_y, test_X, test_y = load_data()\n",
    "print(\"Number of traing samples:\",len(train_y))\n",
    "print(\"Number of testing samples:\",len(test_y))\n",
    "print(\"Shape of the training data:\",train_X.shape)\n",
    "print(\"Shape of the testing data:\",test_X.shape)"
   ]
  },
  {
   "cell_type": "markdown",
   "metadata": {},
   "source": [
    "#### b) Defining the Artificial Neural Network (ANN)"
   ]
  },
  {
   "cell_type": "code",
   "execution_count": 4,
   "metadata": {
    "execution": {
     "iopub.execute_input": "2023-12-07T03:05:55.986237Z",
     "iopub.status.busy": "2023-12-07T03:05:55.985709Z",
     "iopub.status.idle": "2023-12-07T03:05:58.324447Z",
     "shell.execute_reply": "2023-12-07T03:05:58.323627Z"
    },
    "id": "9ODch-OFCaW4"
   },
   "outputs": [
    {
     "name": "stderr",
     "output_type": "stream",
     "text": [
      "2024-02-29 14:15:41.257516: I tensorflow/compiler/jit/xla_cpu_device.cc:41] Not creating XLA devices, tf_xla_enable_xla_devices not set\n",
      "2024-02-29 14:15:41.258160: I tensorflow/stream_executor/platform/default/dso_loader.cc:49] Successfully opened dynamic library libcuda.so.1\n",
      "2024-02-29 14:15:41.277458: E tensorflow/stream_executor/cuda/cuda_driver.cc:328] failed call to cuInit: CUDA_ERROR_UNKNOWN: unknown error\n",
      "2024-02-29 14:15:41.277478: I tensorflow/stream_executor/cuda/cuda_diagnostics.cc:169] retrieving CUDA diagnostic information for host: v-labs-ai-rimmon-bhosale\n",
      "2024-02-29 14:15:41.277481: I tensorflow/stream_executor/cuda/cuda_diagnostics.cc:176] hostname: v-labs-ai-rimmon-bhosale\n",
      "2024-02-29 14:15:41.277536: I tensorflow/stream_executor/cuda/cuda_diagnostics.cc:200] libcuda reported version is: 470.223.2\n",
      "2024-02-29 14:15:41.277548: I tensorflow/stream_executor/cuda/cuda_diagnostics.cc:204] kernel reported version is: 470.223.2\n",
      "2024-02-29 14:15:41.277550: I tensorflow/stream_executor/cuda/cuda_diagnostics.cc:310] kernel version seems to match DSO: 470.223.2\n",
      "2024-02-29 14:15:41.278031: I tensorflow/core/platform/cpu_feature_guard.cc:142] This TensorFlow binary is optimized with oneAPI Deep Neural Network Library (oneDNN) to use the following CPU instructions in performance-critical operations:  SSE4.1 SSE4.2 AVX AVX2 FMA\n",
      "To enable them in other operations, rebuild TensorFlow with the appropriate compiler flags.\n",
      "2024-02-29 14:15:41.279002: I tensorflow/compiler/jit/xla_gpu_device.cc:99] Not creating XLA devices, tf_xla_enable_xla_devices not set\n"
     ]
    }
   ],
   "source": [
    "model = tf.keras.Sequential([\n",
    "    # Flatten the image from 2D array of shape (28,28) to 1D array of shape (28*28))\n",
    "    tf.keras.layers.Flatten(input_shape=(28, 28), name=\"input_layer\"),\n",
    "    # Added a single Dense layer with 64 nodes and ReLU activation function\n",
    "    tf.keras.layers.Dense(64, activation='relu', name=\"hidden_layer\"),\n",
    "    # Define the output layer with num_classes=10 nodes and softmax activation\n",
    "    tf.keras.layers.Dense(10,activation='softmax', name=\"output_layer\")\n",
    "])"
   ]
  },
  {
   "cell_type": "markdown",
   "metadata": {},
   "source": [
    "#### c) The Output Layer\n",
    "\n",
    "<ul>\n",
    "    <li> The <b>LAST DENSE LAYER</b> defined in the model is the output layer. \n",
    "    <li> It contains <b>10 NODES</b> as the fashion mnist dataset has 10 classes. \n",
    "    <li> We are using <b>'SOFTMAX'</b> activation function for this layer to convert logits into class probability values.\n",
    "</ul>"
   ]
  },
  {
   "cell_type": "markdown",
   "metadata": {},
   "source": [
    "#### d) Compiling and Training the model"
   ]
  },
  {
   "cell_type": "code",
   "execution_count": 5,
   "metadata": {
    "execution": {
     "iopub.execute_input": "2023-12-07T03:05:58.328930Z",
     "iopub.status.busy": "2023-12-07T03:05:58.328621Z",
     "iopub.status.idle": "2023-12-07T03:05:58.345425Z",
     "shell.execute_reply": "2023-12-07T03:05:58.344800Z"
    },
    "id": "Lhan11blCaW7"
   },
   "outputs": [],
   "source": [
    "# Compiling the ANN model with the optimizer, loss function and the evaluation metric information\n",
    "model.compile(\n",
    "    optimizer='adam',\n",
    "    loss=tf.keras.losses.CategoricalCrossentropy(),\n",
    "    metrics=['accuracy']\n",
    "    )"
   ]
  },
  {
   "cell_type": "code",
   "execution_count": 6,
   "metadata": {},
   "outputs": [
    {
     "name": "stdout",
     "output_type": "stream",
     "text": [
      "Model: \"sequential\"\n",
      "_________________________________________________________________\n",
      "Layer (type)                 Output Shape              Param #   \n",
      "=================================================================\n",
      "input_layer (Flatten)        (None, 784)               0         \n",
      "_________________________________________________________________\n",
      "hidden_layer (Dense)         (None, 64)                50240     \n",
      "_________________________________________________________________\n",
      "output_layer (Dense)         (None, 10)                650       \n",
      "=================================================================\n",
      "Total params: 50,890\n",
      "Trainable params: 50,890\n",
      "Non-trainable params: 0\n",
      "_________________________________________________________________\n",
      "None\n"
     ]
    }
   ],
   "source": [
    "# Printing the summary of the model\n",
    "print(model.summary())"
   ]
  },
  {
   "cell_type": "code",
   "execution_count": 7,
   "metadata": {},
   "outputs": [
    {
     "name": "stdout",
     "output_type": "stream",
     "text": [
      "Epoch 1/10\n",
      "   1/1500 [..............................] - ETA: 3:15 - loss: 2.4822 - accuracy: 0.0625"
     ]
    },
    {
     "name": "stderr",
     "output_type": "stream",
     "text": [
      "2024-02-29 14:15:41.489213: W tensorflow/core/framework/cpu_allocator_impl.cc:80] Allocation of 150528000 exceeds 10% of free system memory.\n",
      "2024-02-29 14:15:41.559670: I tensorflow/compiler/mlir/mlir_graph_optimization_pass.cc:116] None of the MLIR optimization passes are enabled (registered 2)\n",
      "2024-02-29 14:15:41.559984: I tensorflow/core/platform/profile_utils/cpu_utils.cc:112] CPU Frequency: 2688000000 Hz\n"
     ]
    },
    {
     "name": "stdout",
     "output_type": "stream",
     "text": [
      "1500/1500 [==============================] - 1s 659us/step - loss: 0.7157 - accuracy: 0.7582 - val_loss: 0.4388 - val_accuracy: 0.8452\n",
      "Epoch 2/10\n",
      "1500/1500 [==============================] - 1s 519us/step - loss: 0.4214 - accuracy: 0.8514 - val_loss: 0.4244 - val_accuracy: 0.8538\n",
      "Epoch 3/10\n",
      "1500/1500 [==============================] - 1s 513us/step - loss: 0.3679 - accuracy: 0.8684 - val_loss: 0.3646 - val_accuracy: 0.8683\n",
      "Epoch 4/10\n",
      "1500/1500 [==============================] - 1s 510us/step - loss: 0.3443 - accuracy: 0.8746 - val_loss: 0.3728 - val_accuracy: 0.8620\n",
      "Epoch 5/10\n",
      "1500/1500 [==============================] - 1s 573us/step - loss: 0.3178 - accuracy: 0.8843 - val_loss: 0.3639 - val_accuracy: 0.8686\n",
      "Epoch 6/10\n",
      "1500/1500 [==============================] - 1s 538us/step - loss: 0.3073 - accuracy: 0.8879 - val_loss: 0.3375 - val_accuracy: 0.8780\n",
      "Epoch 7/10\n",
      "1500/1500 [==============================] - 1s 520us/step - loss: 0.2841 - accuracy: 0.8970 - val_loss: 0.3401 - val_accuracy: 0.8773\n",
      "Epoch 8/10\n",
      "1500/1500 [==============================] - 1s 515us/step - loss: 0.2732 - accuracy: 0.8998 - val_loss: 0.3286 - val_accuracy: 0.8822\n",
      "Epoch 9/10\n",
      "1500/1500 [==============================] - 1s 497us/step - loss: 0.2736 - accuracy: 0.8979 - val_loss: 0.3281 - val_accuracy: 0.8835\n",
      "Epoch 10/10\n",
      "1500/1500 [==============================] - 1s 537us/step - loss: 0.2533 - accuracy: 0.9059 - val_loss: 0.3362 - val_accuracy: 0.8773\n"
     ]
    }
   ],
   "source": [
    "# Training the model and capturing the training history (H)\n",
    "H = model.fit(train_X, train_y, epochs=10,validation_split=0.2)"
   ]
  },
  {
   "cell_type": "markdown",
   "metadata": {
    "id": "wCpr6DGyE28h"
   },
   "source": [
    "#### e) Evaluating the model"
   ]
  },
  {
   "cell_type": "code",
   "execution_count": 8,
   "metadata": {
    "execution": {
     "iopub.execute_input": "2023-12-07T03:06:39.110056Z",
     "iopub.status.busy": "2023-12-07T03:06:39.109558Z",
     "iopub.status.idle": "2023-12-07T03:06:39.860366Z",
     "shell.execute_reply": "2023-12-07T03:06:39.859575Z"
    },
    "id": "VflXLEeECaXC"
   },
   "outputs": [
    {
     "name": "stderr",
     "output_type": "stream",
     "text": [
      "2024-02-29 14:15:49.946603: W tensorflow/core/framework/cpu_allocator_impl.cc:80] Allocation of 188160000 exceeds 10% of free system memory.\n"
     ]
    },
    {
     "name": "stdout",
     "output_type": "stream",
     "text": [
      "Train Accuracy: 0.8986666798591614\n",
      "Train Loss: 0.2717236578464508\n",
      "Test Accuracy: 0.8691999912261963\n",
      "Test Loss: 0.3652949035167694\n"
     ]
    }
   ],
   "source": [
    "# Evaluating the model on entire training data\n",
    "train_loss, train_acc = model.evaluate(train_X,  train_y,verbose=0)\n",
    "\n",
    "#Evaluating the model on the testing data\n",
    "test_loss, test_acc = model.evaluate(test_X,  test_y,verbose=0)\n",
    "\n",
    "print('Train Accuracy:', train_acc)\n",
    "print('Train Loss:', train_loss)\n",
    "print('Test Accuracy:', test_acc)\n",
    "print('Test Loss:', test_loss)"
   ]
  },
  {
   "cell_type": "code",
   "execution_count": 10,
   "metadata": {},
   "outputs": [
    {
     "data": {
      "text/plain": [
       "'\\nTrain Accuracy: 0.8986666798591614\\nTrain Loss: 0.2717236578464508\\nTest Accuracy: 0.8691999912261963\\nTest Loss: 0.3652949035167694\\n'"
      ]
     },
     "execution_count": 10,
     "metadata": {},
     "output_type": "execute_result"
    }
   ],
   "source": [
    "# PERFORMANCE ON THREE CONSECUTIVE RUNS\n",
    "\n",
    "# Run 1\n",
    "\"\"\"\n",
    "Train Accuracy: 0.9036499857902527\n",
    "Train Loss: 0.26612937450408936\n",
    "Test Accuracy: 0.8705000281333923\n",
    "Test Loss: 0.36443549394607544\n",
    "\"\"\"\n",
    "\n",
    "# Run 2\n",
    "\"\"\"\n",
    "Train Accuracy: 0.9053333401679993\n",
    "Train Loss: 0.26164138317108154\n",
    "Test Accuracy: 0.8762000203132629\n",
    "Test Loss: 0.352008193731308\n",
    "\"\"\"\n",
    "\n",
    "# Run 3\n",
    "\"\"\"\n",
    "Train Accuracy: 0.8986666798591614\n",
    "Train Loss: 0.2717236578464508\n",
    "Test Accuracy: 0.8691999912261963\n",
    "Test Loss: 0.3652949035167694\n",
    "\"\"\"\n"
   ]
  }
 ],
 "metadata": {
  "colab": {
   "collapsed_sections": [],
   "name": "classification.ipynb",
   "toc_visible": true
  },
  "kernelspec": {
   "display_name": "Python 3",
   "name": "python3"
  },
  "language_info": {
   "codemirror_mode": {
    "name": "ipython",
    "version": 3
   },
   "file_extension": ".py",
   "mimetype": "text/x-python",
   "name": "python",
   "nbconvert_exporter": "python",
   "pygments_lexer": "ipython3",
   "version": "3.9.18"
  }
 },
 "nbformat": 4,
 "nbformat_minor": 0
}
